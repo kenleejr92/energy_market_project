{
 "cells": [
  {
   "cell_type": "code",
   "execution_count": 1,
   "metadata": {},
   "outputs": [],
   "source": [
    "# Import all libraries needed for the tutorial\n",
    "\n",
    "# General syntax to import specific functions in a library: \n",
    "##from (library) import (specific library function)\n",
    "from pandas import DataFrame, read_csv\n",
    "\n",
    "# General syntax to import a library but no functions: \n",
    "##import (library) as (give the library a nickname/alias)\n",
    "import numpy as np\n",
    "import matplotlib.pyplot as plt\n",
    "import pandas as pd #this is how I usually import pandas\n",
    "\n",
    "crrs = pd.read_csv('/home/kenlee/Energy_Market_Project/CRRs/Common_ExistingCRR.csv')\n",
    "sps = pd.read_csv('/home/kenlee/Energy_Market_Project/LMP_data/cdr.00012331.0000000000000000.20160421.132355.DAMSPNP4190.csv')\n",
    "ptp = pd.read_csv('/home/kenlee/Energy_Market_Project/LMP_data/cdr.00010042.0000000000000000.20160421.143021.DAMPTPNP7464.csv')\n",
    "del ptp['DSTFlag']\n",
    "\n",
    "sources = crrs['Source'].drop_duplicates()\n",
    "sinks = crrs['Sink'].drop_duplicates()\n",
    "settlementpoints = sps['SettlementPoint'].drop_duplicates()\n",
    "ptp['Source-Sink'] = ptp['Source'] + ptp['Sink']\n",
    "del ptp['Source']\n",
    "del ptp['Sink']"
   ]
  },
  {
   "cell_type": "code",
   "execution_count": 2,
   "metadata": {},
   "outputs": [],
   "source": [
    "sorted = ptp.sort_values(['Source-Sink'])\n",
    "options = np.array_split(sorted, 2817)  # split the dataframe into 24 hr chunks\n",
    "option_payouts = []\n",
    "for option in options:\n",
    "    o = option[['DeliveryDate','Price']].values\n",
    "    column_list = ['DeliveryDate', option.iloc[0]['Source-Sink']]\n",
    "    new_node = pd.DataFrame(o,index=option.HourEnding,columns=column_list)\n",
    "    option_payouts.append(new_node)\n",
    "\n",
    "df_final = pd.concat(option_payouts, axis=1,ignore_index=False)"
   ]
  },
  {
   "cell_type": "code",
   "execution_count": 11,
   "metadata": {},
   "outputs": [],
   "source": [
    "df_final.ix[:,0:500].plot(legend=None)\n",
    "plt.show()"
   ]
  },
  {
   "cell_type": "code",
   "execution_count": null,
   "metadata": {},
   "outputs": [],
   "source": [
    ""
   ]
  }
 ],
 "metadata": {
  "kernelspec": {
   "display_name": "Python 2",
   "language": "python",
   "name": "python2"
  },
  "language_info": {
   "codemirror_mode": {
    "name": "ipython",
    "version": 2.0
   },
   "file_extension": ".py",
   "mimetype": "text/x-python",
   "name": "python",
   "nbconvert_exporter": "python",
   "pygments_lexer": "ipython2",
   "version": "2.7.6"
  }
 },
 "nbformat": 4,
 "nbformat_minor": 0
}