{
 "cells": [
  {
   "cell_type": "code",
   "execution_count": 35,
   "metadata": {
    "collapsed": false
   },
   "outputs": [],
   "source": [
    "%matplotlib qt\n",
    "import time\n",
    "import sys\n",
    "import math\n",
    "import numpy as np\n",
    "import pandas as pd\n",
    "from datetime import datetime\n",
    "import calendar\n",
    "import holidays\n",
    "import matplotlib.pyplot as plt\n",
    "import cPickle as pickle\n",
    "from datetime import datetime\n",
    "from sklearn import preprocessing\n",
    "from keras.models import Sequential\n",
    "from keras.layers import Dense, Activation, Convolution1D\n",
    "from sklearn.metrics import mean_squared_error\n",
    "from sklearn.datasets import make_friedman1\n",
    "from sklearn.ensemble import GradientBoostingRegressor\n",
    "\n",
    "targets = None\n",
    "features = None\n",
    "with open('../Feature_Selection/targets.pkl') as f:\n",
    "    targets = np.array(pickle.load(f))\n",
    "    targets = targets.reshape((targets.shape[0],1))\n",
    "with open('../Feature_Selection/features.pkl') as f:\n",
    "    features = np.array(pickle.load(f))"
   ]
  },
  {
   "cell_type": "code",
   "execution_count": 41,
   "metadata": {
    "collapsed": false
   },
   "outputs": [],
   "source": [
    "#scale numerical features to (0,1) and one-hot encode categorical features\n",
    "train_size=0.8\n",
    "sample_size=targets.shape[0]\n",
    "target_scaler = preprocessing.MinMaxScaler((0,1))\n",
    "feature_scaler = preprocessing.MinMaxScaler((0,1))\n",
    "scaled_targets = target_scaler.fit_transform(targets)\n",
    "scaled_features = feature_scaler.fit_transform(features)\n",
    "x = scaled_features\n",
    "y = scaled_targets\n",
    "y_train = y[:int(train_size*sample_size),:]\n",
    "x_train = x[:int(train_size*sample_size),:]"
   ]
  },
  {
   "cell_type": "code",
   "execution_count": 37,
   "metadata": {
    "collapsed": false
   },
   "outputs": [],
   "source": [
    "y_val = targets[int(sample_size*train_size):,:]\n",
    "x_val = x[int(sample_size*train_size):,:]"
   ]
  },
  {
   "cell_type": "code",
   "execution_count": 38,
   "metadata": {
    "collapsed": false
   },
   "outputs": [
    {
     "name": "stdout",
     "output_type": "stream",
     "text": [
      "____________________________________________________________________________________________________\n",
      "Layer (type)                     Output Shape          Param #     Connected to                     \n",
      "====================================================================================================\n",
      "dense_7 (Dense)                  (None, 50)            2550        dense_input_4[0][0]              \n",
      "____________________________________________________________________________________________________\n",
      "dense_8 (Dense)                  (None, 1)             51          dense_7[0][0]                    \n",
      "====================================================================================================\n",
      "Total params: 2601\n",
      "____________________________________________________________________________________________________\n",
      "Epoch 1/15\n",
      "30716/30716 [==============================] - 3s - loss: 7.6817e-04 - acc: 3.2556e-05     \n",
      "Epoch 2/15\n",
      "30716/30716 [==============================] - 2s - loss: 6.5287e-04 - acc: 3.2556e-05     \n",
      "Epoch 3/15\n",
      "30716/30716 [==============================] - 2s - loss: 5.8215e-04 - acc: 3.2556e-05     \n",
      "Epoch 4/15\n",
      "30716/30716 [==============================] - 2s - loss: 5.3427e-04 - acc: 3.2556e-05     \n",
      "Epoch 5/15\n",
      "30716/30716 [==============================] - 2s - loss: 5.0189e-04 - acc: 3.2556e-05     \n",
      "Epoch 6/15\n",
      "30716/30716 [==============================] - 3s - loss: 4.7932e-04 - acc: 3.2556e-05     \n",
      "Epoch 7/15\n",
      "30716/30716 [==============================] - 3s - loss: 4.6391e-04 - acc: 3.2556e-05     \n",
      "Epoch 8/15\n",
      "30716/30716 [==============================] - 3s - loss: 4.5274e-04 - acc: 3.2556e-05     \n",
      "Epoch 9/15\n",
      "30716/30716 [==============================] - 3s - loss: 4.4458e-04 - acc: 3.2556e-05     \n",
      "Epoch 10/15\n",
      "30716/30716 [==============================] - 3s - loss: 4.3836e-04 - acc: 3.2556e-05     \n",
      "Epoch 11/15\n",
      "30716/30716 [==============================] - 2s - loss: 4.3344e-04 - acc: 3.2556e-05     \n",
      "Epoch 12/15\n",
      "30716/30716 [==============================] - 3s - loss: 4.2956e-04 - acc: 3.2556e-05     \n",
      "Epoch 13/15\n",
      "30716/30716 [==============================] - 2s - loss: 4.2622e-04 - acc: 3.2556e-05     \n",
      "Epoch 14/15\n",
      "30716/30716 [==============================] - 3s - loss: 4.2324e-04 - acc: 3.2556e-05     \n",
      "Epoch 15/15\n",
      "30716/30716 [==============================] - 2s - loss: 4.2082e-04 - acc: 3.2556e-05     \n"
     ]
    },
    {
     "data": {
      "text/plain": [
       "<keras.callbacks.History at 0x12bc0fb90>"
      ]
     },
     "execution_count": 38,
     "metadata": {},
     "output_type": "execute_result"
    }
   ],
   "source": [
    "model = Sequential()\n",
    "model.add(Dense(50, init = 'glorot_uniform', activation = 'tanh', input_dim = x_train.shape[1]))\n",
    "model.add(Dense(1, init = 'zero', activation = 'linear'))\n",
    "model.compile(loss='mean_squared_error', optimizer='sgd', metrics = ['accuracy'])\n",
    "model.summary()\n",
    "model.fit(x_train, y_train, nb_epoch=15)"
   ]
  },
  {
   "cell_type": "code",
   "execution_count": 39,
   "metadata": {
    "collapsed": false
   },
   "outputs": [
    {
     "data": {
      "text/plain": [
       "inf"
      ]
     },
     "execution_count": 39,
     "metadata": {},
     "output_type": "execute_result"
    }
   ],
   "source": [
    "y_pred = model.predict(x_val)\n",
    "y_pred = target_scaler.inverse_transform(y_pred)\n",
    "np.mean(np.abs(y_pred-y_val)/y_val)"
   ]
  },
  {
   "cell_type": "code",
   "execution_count": 40,
   "metadata": {
    "collapsed": false
   },
   "outputs": [],
   "source": [
    "plt.plot(y_val, label='actual')\n",
    "plt.plot(y_pred, label='predicted')\n",
    "plt.legend()\n",
    "plt.show()"
   ]
  },
  {
   "cell_type": "code",
   "execution_count": 159,
   "metadata": {
    "collapsed": false
   },
   "outputs": [
    {
     "name": "stdout",
     "output_type": "stream",
     "text": [
      "____________________________________________________________________________________________________\n",
      "Layer (type)                     Output Shape          Param #     Connected to                     \n",
      "====================================================================================================\n",
      "dense_21 (Dense)                 (None, 2)             12          dense_input_11[0][0]             \n",
      "____________________________________________________________________________________________________\n",
      "dense_22 (Dense)                 (None, 1)             3           dense_21[0][0]                   \n",
      "====================================================================================================\n",
      "Total params: 15\n",
      "____________________________________________________________________________________________________\n",
      "Epoch 1/15\n",
      "34997/34997 [==============================] - 3s - loss: 6.6194e-04 - acc: 2.8574e-05     \n",
      "Epoch 2/15\n",
      "34997/34997 [==============================] - 3s - loss: 6.5461e-04 - acc: 2.8574e-05     \n",
      "Epoch 3/15\n",
      "34997/34997 [==============================] - 3s - loss: 6.5260e-04 - acc: 2.8574e-05     \n",
      "Epoch 4/15\n",
      "34997/34997 [==============================] - 3s - loss: 6.5142e-04 - acc: 2.8574e-05     \n",
      "Epoch 5/15\n",
      "34997/34997 [==============================] - 3s - loss: 6.5073e-04 - acc: 2.8574e-05     \n",
      "Epoch 6/15\n",
      "34997/34997 [==============================] - 2s - loss: 6.5061e-04 - acc: 2.8574e-05     \n",
      "Epoch 7/15\n",
      "34997/34997 [==============================] - 2s - loss: 6.5044e-04 - acc: 2.8574e-05     \n",
      "Epoch 8/15\n",
      "34997/34997 [==============================] - 2s - loss: 6.5047e-04 - acc: 2.8574e-05     \n",
      "Epoch 9/15\n",
      "34997/34997 [==============================] - 2s - loss: 6.5052e-04 - acc: 2.8574e-05     \n",
      "Epoch 10/15\n",
      "34997/34997 [==============================] - 2s - loss: 6.5036e-04 - acc: 2.8574e-05     \n",
      "Epoch 11/15\n",
      "34997/34997 [==============================] - 2s - loss: 6.5034e-04 - acc: 2.8574e-05     \n",
      "Epoch 12/15\n",
      "34997/34997 [==============================] - 2s - loss: 6.5030e-04 - acc: 2.8574e-05     \n",
      "Epoch 13/15\n",
      "34997/34997 [==============================] - 2s - loss: 6.5032e-04 - acc: 2.8574e-05     \n",
      "Epoch 14/15\n",
      "34997/34997 [==============================] - 2s - loss: 6.5023e-04 - acc: 2.8574e-05     \n",
      "Epoch 15/15\n",
      "34997/34997 [==============================] - 2s - loss: 6.5021e-04 - acc: 2.8574e-05     \n"
     ]
    },
    {
     "data": {
      "text/plain": [
       "<keras.callbacks.History at 0x13071bb90>"
      ]
     },
     "execution_count": 159,
     "metadata": {},
     "output_type": "execute_result"
    }
   ],
   "source": [
    "#now just use price-24 and date/time\n",
    "x2 = np.concatenate((features[:,0].reshape(features.shape[0],1),features[:,-4:]), axis=1)\n",
    "feature_scaler2 = preprocessing.MinMaxScaler((0,1))\n",
    "x2 = feature_scaler2.fit_transform(x2)\n",
    "x_train2 = x2[:int(train_size*sample_size),:]\n",
    "model = Sequential()\n",
    "model.add(Dense(2, init = 'glorot_uniform', activation = 'tanh', input_dim = x_train2.shape[1]))\n",
    "model.add(Dense(1, init = 'zero', activation = 'linear'))\n",
    "model.compile(loss='mean_squared_error', optimizer='sgd', metrics = ['accuracy'])\n",
    "model.summary()\n",
    "model.fit(x_train2, y_train, nb_epoch=15)"
   ]
  },
  {
   "cell_type": "code",
   "execution_count": 160,
   "metadata": {
    "collapsed": false
   },
   "outputs": [
    {
     "name": "stdout",
     "output_type": "stream",
     "text": [
      "0.775147186043\n"
     ]
    }
   ],
   "source": [
    "x_val2 = x2[int(sample_size*train_size):,:]\n",
    "y_pred = model.predict(x_val2)\n",
    "y_pred = target_scaler.inverse_transform(y_pred)\n",
    "print(np.mean(np.abs(y_pred-y_val)/y_val))\n",
    "plt.plot(y_val, label='actual')\n",
    "plt.plot(y_pred, label='predicted')\n",
    "plt.legend()\n",
    "plt.show()"
   ]
  },
  {
   "cell_type": "code",
   "execution_count": 165,
   "metadata": {
    "collapsed": false
   },
   "outputs": [
    {
     "data": {
      "text/plain": [
       "(43747, 82)"
      ]
     },
     "execution_count": 165,
     "metadata": {},
     "output_type": "execute_result"
    }
   ],
   "source": [
    "features.shape"
   ]
  }
 ],
 "metadata": {
  "anaconda-cloud": {},
  "kernelspec": {
   "display_name": "Python [conda root]",
   "language": "python",
   "name": "conda-root-py"
  },
  "language_info": {
   "codemirror_mode": {
    "name": "ipython",
    "version": 2
   },
   "file_extension": ".py",
   "mimetype": "text/x-python",
   "name": "python",
   "nbconvert_exporter": "python",
   "pygments_lexer": "ipython2",
   "version": "2.7.12"
  }
 },
 "nbformat": 4,
 "nbformat_minor": 1
}
