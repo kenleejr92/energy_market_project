{
 "cells": [
  {
   "cell_type": "code",
   "execution_count": 20,
   "metadata": {},
   "outputs": [],
   "source": [
    "import MySQLdb\n",
    "import os\n",
    "import sys\n",
    "from MySQLdb.constants import FIELD_TYPE\n",
    "\n",
    "my_conv = { FIELD_TYPE.DECIMAL: float }\n",
    "db=MySQLdb.connect(host=\"localhost\",db=\"ercot_data\",read_default_file=\"/etc/mysql/my.cnf\",conv=my_conv)\n",
    "c=db.cursor()"
   ]
  },
  {
   "cell_type": "code",
   "execution_count": 21,
   "metadata": {},
   "outputs": [
    {
     "data": {
      "text/plain": [
       "0L"
      ]
     },
     "execution_count": 21,
     "output_type": "execute_result",
     "metadata": {}
    }
   ],
   "source": [
    "c.execute(\"\"\"DROP TABLE IF EXISTS DAM_SPPs\"\"\")\n",
    "c.execute(\"\"\"CREATE TABLE DAM_SPPs (\n",
    "            delivery_date DATE,\n",
    "            hour_ending TIME,\n",
    "            PRIMARY KEY (delivery_date,hour_ending)\n",
    "            ) engine = MyISAM\"\"\")"
   ]
  },
  {
   "cell_type": "code",
   "execution_count": 22,
   "metadata": {},
   "outputs": [
    {
     "data": {
      "text/plain": [
       "['HB_BUSAVG',\n",
       " 'HB_HOUSTON',\n",
       " 'HB_HUBAVG',\n",
       " 'HB_NORTH',\n",
       " 'HB_SOUTH',\n",
       " 'HB_WEST',\n",
       " 'LZ_AEN',\n",
       " 'LZ_CPS',\n",
       " 'LZ_HOUSTON',\n",
       " 'LZ_LCRA',\n",
       " 'LZ_NORTH',\n",
       " 'LZ_RAYBN',\n",
       " 'LZ_SOUTH',\n",
       " 'LZ_WEST']"
      ]
     },
     "execution_count": 22,
     "output_type": "execute_result",
     "metadata": {}
    }
   ],
   "source": [
    "f = open(\"/ssd/raw_ercot_data/dam_lmps/DAM_by_LZHBSPP/zones/part-00000\",\"r\")\n",
    "bus_names = [line[:-1] for line in f]\n",
    "f.close()\n",
    "bus_names"
   ]
  },
  {
   "cell_type": "code",
   "execution_count": 23,
   "metadata": {},
   "outputs": [],
   "source": [
    "for bus in bus_names:\n",
    "    c.execute(\"\"\"ALTER TABLE DAM_SPPs ADD COLUMN `%s` DECIMAL(6,2)\"\"\" % bus)"
   ]
  },
  {
   "cell_type": "code",
   "execution_count": 25,
   "metadata": {},
   "outputs": [
    {
     "name": "stderr",
     "output_type": "stream",
     "text": [
      "ERROR: An unexpected error occurred while tokenizing input\n",
      "The following traceback may be corrupted or invalid\n",
      "The error message is: ('EOF in multi-line string', (1, 0))\n",
      "\n"
     ]
    },
    {
     "ename": "OperationalError",
     "evalue": "(1148, 'The used command is not allowed with this MySQL version')",
     "output_type": "error",
     "traceback": [
      "\u001b[1;31m---------------------------------------------------------------------------\u001b[0m",
      "\u001b[1;31mOperationalError\u001b[0m                          Traceback (most recent call last)",
      "\u001b[1;32m<ipython-input-25-ce38f25cc2ec>\u001b[0m in \u001b[0;36m<module>\u001b[1;34m()\u001b[0m\n\u001b[0;32m      4\u001b[0m \u001b[1;33m(\u001b[0m\u001b[1;33m@\u001b[0m\u001b[0mdate_variable\u001b[0m\u001b[1;33m,\u001b[0m\u001b[0mhour_ending\u001b[0m\u001b[1;33m,\u001b[0m\u001b[0mHB_BUSAVG\u001b[0m\u001b[1;33m,\u001b[0m\u001b[0mHB_HOUSTON\u001b[0m\u001b[1;33m,\u001b[0m\u001b[0mHB_HUBAVG\u001b[0m\u001b[1;33m,\u001b[0m\u001b[0mHB_NORTH\u001b[0m\u001b[1;33m,\u001b[0m\u001b[0mHB_SOUTH\u001b[0m\u001b[1;33m,\u001b[0m\u001b[0mHB_WEST\u001b[0m\u001b[1;33m,\u001b[0m\u001b[0mLZ_AEN\u001b[0m\u001b[1;33m,\u001b[0m\u001b[0mLZ_CPS\u001b[0m\u001b[1;33m,\u001b[0m\u001b[0mLZ_HOUSTON\u001b[0m\u001b[1;33m,\u001b[0m\u001b[0mLZ_LCRA\u001b[0m\u001b[1;33m,\u001b[0m\u001b[0mLZ_NORTH\u001b[0m\u001b[1;33m,\u001b[0m\u001b[0mLZ_RAYBN\u001b[0m\u001b[1;33m,\u001b[0m\u001b[0mLZ_SOUTH\u001b[0m\u001b[1;33m,\u001b[0m\u001b[0mLZ_WEST\u001b[0m\u001b[1;33m)\u001b[0m\u001b[1;33m\u001b[0m\u001b[0m\n\u001b[0;32m      5\u001b[0m \u001b[0mSET\u001b[0m \u001b[0mdelivery_date\u001b[0m \u001b[1;33m=\u001b[0m \u001b[0mSTR_TO_DATE\u001b[0m\u001b[1;33m(\u001b[0m\u001b[1;33m@\u001b[0m\u001b[0mdate_variable\u001b[0m\u001b[1;33m,\u001b[0m \u001b[1;34m'%m/%d/%Y'\u001b[0m\u001b[1;33m)\u001b[0m\u001b[1;33m;\u001b[0m\u001b[1;33m\u001b[0m\u001b[0m\n\u001b[1;32m----> 6\u001b[1;33m \"\"\")\n\u001b[0m",
      "\u001b[1;32m/usr/lib/python2.7/dist-packages/MySQLdb/cursors.pyc\u001b[0m in \u001b[0;36mexecute\u001b[1;34m(self, query, args)\u001b[0m\n\u001b[0;32m    172\u001b[0m             \u001b[1;32mdel\u001b[0m \u001b[0mtb\u001b[0m\u001b[1;33m\u001b[0m\u001b[0m\n\u001b[0;32m    173\u001b[0m             \u001b[0mself\u001b[0m\u001b[1;33m.\u001b[0m\u001b[0mmessages\u001b[0m\u001b[1;33m.\u001b[0m\u001b[0mappend\u001b[0m\u001b[1;33m(\u001b[0m\u001b[1;33m(\u001b[0m\u001b[0mexc\u001b[0m\u001b[1;33m,\u001b[0m \u001b[0mvalue\u001b[0m\u001b[1;33m)\u001b[0m\u001b[1;33m)\u001b[0m\u001b[1;33m\u001b[0m\u001b[0m\n\u001b[1;32m--> 174\u001b[1;33m             \u001b[0mself\u001b[0m\u001b[1;33m.\u001b[0m\u001b[0merrorhandler\u001b[0m\u001b[1;33m(\u001b[0m\u001b[0mself\u001b[0m\u001b[1;33m,\u001b[0m \u001b[0mexc\u001b[0m\u001b[1;33m,\u001b[0m \u001b[0mvalue\u001b[0m\u001b[1;33m)\u001b[0m\u001b[1;33m\u001b[0m\u001b[0m\n\u001b[0m\u001b[0;32m    175\u001b[0m         \u001b[0mself\u001b[0m\u001b[1;33m.\u001b[0m\u001b[0m_executed\u001b[0m \u001b[1;33m=\u001b[0m \u001b[0mquery\u001b[0m\u001b[1;33m\u001b[0m\u001b[0m\n\u001b[0;32m    176\u001b[0m         \u001b[1;32mif\u001b[0m \u001b[1;32mnot\u001b[0m \u001b[0mself\u001b[0m\u001b[1;33m.\u001b[0m\u001b[0m_defer_warnings\u001b[0m\u001b[1;33m:\u001b[0m \u001b[0mself\u001b[0m\u001b[1;33m.\u001b[0m\u001b[0m_warning_check\u001b[0m\u001b[1;33m(\u001b[0m\u001b[1;33m)\u001b[0m\u001b[1;33m\u001b[0m\u001b[0m\n",
      "\u001b[1;32m/usr/lib/python2.7/dist-packages/MySQLdb/connections.pyc\u001b[0m in \u001b[0;36mdefaulterrorhandler\u001b[1;34m(***failed resolving arguments***)\u001b[0m\n\u001b[0;32m     34\u001b[0m     \u001b[1;32mdel\u001b[0m \u001b[0mcursor\u001b[0m\u001b[1;33m\u001b[0m\u001b[0m\n\u001b[0;32m     35\u001b[0m     \u001b[1;32mdel\u001b[0m \u001b[0mconnection\u001b[0m\u001b[1;33m\u001b[0m\u001b[0m\n\u001b[1;32m---> 36\u001b[1;33m     \u001b[1;32mraise\u001b[0m \u001b[0merrorclass\u001b[0m\u001b[1;33m,\u001b[0m \u001b[0merrorvalue\u001b[0m\u001b[1;33m\u001b[0m\u001b[0m\n\u001b[0m\u001b[0;32m     37\u001b[0m \u001b[1;33m\u001b[0m\u001b[0m\n\u001b[0;32m     38\u001b[0m \u001b[0mre_numeric_part\u001b[0m \u001b[1;33m=\u001b[0m \u001b[0mre\u001b[0m\u001b[1;33m.\u001b[0m\u001b[0mcompile\u001b[0m\u001b[1;33m(\u001b[0m\u001b[1;34mr\"^(\\d+)\"\u001b[0m\u001b[1;33m)\u001b[0m\u001b[1;33m\u001b[0m\u001b[0m\n",
      "\u001b[1;31mOperationalError\u001b[0m: (1148, 'The used command is not allowed with this MySQL version')"
     ]
    }
   ],
   "source": [
    "c.execute(\"\"\"LOAD DATA LOCAL INFILE '/ssd/raw_ercot_data/dam_lmps/DAM_by_LZHBSPP/spark_results/part-00000' \n",
    "INTO TABLE DAM_SPPs FIELDS TERMINATED BY ',' \n",
    "LINES TERMINATED BY '\\n' \n",
    "(@date_variable,hour_ending,HB_BUSAVG,HB_HOUSTON,HB_HUBAVG,HB_NORTH,HB_SOUTH,HB_WEST,LZ_AEN,LZ_CPS,LZ_HOUSTON,LZ_LCRA,LZ_NORTH,LZ_RAYBN,LZ_SOUTH,LZ_WEST) \n",
    "SET delivery_date = STR_TO_DATE(@date_variable, '%m/%d/%Y');\n",
    "\"\"\")"
   ]
  },
  {
   "cell_type": "code",
   "execution_count": null,
   "metadata": {},
   "outputs": [],
   "source": [
    ""
   ]
  }
 ],
 "metadata": {
  "kernelspec": {
   "display_name": "Python 2",
   "language": "python",
   "name": "python2"
  },
  "language_info": {
   "codemirror_mode": {
    "name": "ipython",
    "version": 2.0
   },
   "file_extension": ".py",
   "mimetype": "text/x-python",
   "name": "python",
   "nbconvert_exporter": "python",
   "pygments_lexer": "ipython2",
   "version": "2.7.6"
  }
 },
 "nbformat": 4,
 "nbformat_minor": 0
}