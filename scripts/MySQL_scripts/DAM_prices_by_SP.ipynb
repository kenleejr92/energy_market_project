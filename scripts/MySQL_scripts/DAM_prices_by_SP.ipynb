{
 "cells": [
  {
   "cell_type": "code",
   "execution_count": 34,
   "metadata": {
    "collapsed": true
   },
   "outputs": [],
   "source": [
    "import numpy as np\n",
    "import matplotlib.pyplot as plt\n",
    "import pandas as pd\n",
    "import MySQLdb\n",
    "from MySQLdb.constants import FIELD_TYPE\n",
    "\n",
    "my_conv = { FIELD_TYPE.DECIMAL: float }\n",
    "db=MySQLdb.connect(host=\"localhost\",db=\"ercot_data\",read_default_file=\"/etc/mysql/my.cnf\",conv=my_conv)\n",
    "c=db.cursor()"
   ]
  },
  {
   "cell_type": "code",
   "execution_count": 35,
   "metadata": {
    "collapsed": false
   },
   "outputs": [],
   "source": [
    "c.execute(\"\"\"SELECT DISTINCT settlement_point FROM DAM_prices_by_SPP\"\"\")\n",
    "r = c.fetchall()\n",
    "r = list(r)\n",
    "settlement_points = []\n",
    "for settlement_point in r:\n",
    "    if settlement_point[0] == \"\\\"Settlement Point\\\"\":\n",
    "        continue\n",
    "    settlement_points.append(settlement_point[0])"
   ]
  },
  {
   "cell_type": "code",
   "execution_count": 36,
   "metadata": {
    "collapsed": true
   },
   "outputs": [],
   "source": [
    "result_matrix = []\n",
    "for (idx,val) in enumerate(settlement_points):\n",
    "    c.execute(\"\"\"SELECT delivery_date,hour_ending,spp \n",
    "                FROM DAM_prices_by_SPP \n",
    "                WHERE settlement_point = \"%s\" \n",
    "                AND delivery_date > \"2011-01-01\" \n",
    "                AND delivery_date < \"2011-12-31\" \n",
    "                ORDER BY delivery_date,hour_ending\"\"\" % val)\n",
    "    result = c.fetchall()\n",
    "    result = list(result)\n",
    "    result_matrix.append(result)"
   ]
  },
  {
   "cell_type": "code",
   "execution_count": 37,
   "metadata": {
    "collapsed": true
   },
   "outputs": [],
   "source": [
    "result_matrix\n",
    "spp_matrix = []\n",
    "dt_matrix = []\n",
    "for sp in result_matrix:\n",
    "    spps = []\n",
    "    dts = []\n",
    "    for (date,time,spp) in sp:\n",
    "        time = str(int(time.split(\":\")[0])-1)\n",
    "        dt = datetime.strptime(date + \" \" + time, \"%Y-%m-%d %H\")\n",
    "        spps.append(float(spp))\n",
    "        dts.append(dt)\n",
    "    spp_matrix.append(spps)\n",
    "    dt_matrix.append(dts)"
   ]
  },
  {
   "cell_type": "code",
   "execution_count": 38,
   "metadata": {
    "collapsed": false
   },
   "outputs": [],
   "source": [
    "for (idx,val) in enumerate(spp_matrix):\n",
    "    plt.plot(dt_matrix[0],val,label=\"%s\" % settlement_points[idx])\n",
    "plt.title(\"SPP by LZ and HUB for 2011\")\n",
    "plt.xlabel(\"Date-Time\")\n",
    "plt.ylabel(\"SPP\")\n",
    "plt.show()"
   ]
  },
  {
   "cell_type": "code",
   "execution_count": null,
   "metadata": {
    "collapsed": true
   },
   "outputs": [],
   "source": []
  }
 ],
 "metadata": {
  "kernelspec": {
   "display_name": "Python 2",
   "language": "python",
   "name": "python2"
  },
  "language_info": {
   "codemirror_mode": {
    "name": "ipython",
    "version": 2
   },
   "file_extension": ".py",
   "mimetype": "text/x-python",
   "name": "python",
   "nbconvert_exporter": "python",
   "pygments_lexer": "ipython2",
   "version": "2.7.6"
  }
 },
 "nbformat": 4,
 "nbformat_minor": 0
}
