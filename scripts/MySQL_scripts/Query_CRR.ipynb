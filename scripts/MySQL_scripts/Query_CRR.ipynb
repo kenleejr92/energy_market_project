{
 "cells": [
  {
   "cell_type": "code",
   "execution_count": 47,
   "metadata": {
    "collapsed": false
   },
   "outputs": [],
   "source": [
    "import numpy as np\n",
    "import matplotlib.pyplot as plt\n",
    "import pandas as pd\n",
    "from Query_ERCOT_DB import Query_ERCOT_DB\n",
    "\n",
    "class Query_CRR(Query_ERCOT_DB):\n",
    "    \n",
    "    def __init__(self):\n",
    "        self.crr_periods = None\n",
    "        self.sources = {}\n",
    "        self.sinks = {}\n",
    "        self.graph_list = []\n",
    "        Query_ERCOT_DB.c.execute(\"\"\"SELECT StartDate, EndDate\n",
    "            FROM crr_ownership GROUP BY StartDate, EndDate\"\"\")\n",
    "        self.crr_periods = list(Query_ERCOT_DB.c.fetchall())[1:]\n",
    "        Query_ERCOT_DB.c.execute(\"\"\"SELECT DISTINCT Source\n",
    "            FROM crr_ownership ORDER BY Source\"\"\")\n",
    "        sources = list(Query_ERCOT_DB.c.fetchall())\n",
    "        sources = [r[0] for r in sources]\n",
    "        for idx, src in enumerate(sources):\n",
    "            self.sources[src] = idx\n",
    "        Query_ERCOT_DB.c.execute(\"\"\"SELECT DISTINCT Sink\n",
    "            FROM crr_ownership ORDER BY Sink\"\"\")\n",
    "        sinks = list(Query_ERCOT_DB.c.fetchall())\n",
    "        sinks = [r[0] for r in sinks]\n",
    "        for idx, snk in enumerate(sinks):\n",
    "            self.sinks[snk] = idx\n",
    "        self.capacity_matrix = np.zeros((len(qcrr.sources),len(qcrr.sources)))\n",
    "    \n",
    "    \n",
    "    def query(self,option='all',start_date='2012-12-01',end_date='2012-12-31'):\n",
    "        if option == 'all':\n",
    "            for sd, ed in crr_periods:\n",
    "                Query_ERCOT_DB.c.execute(\"\"\"select Source, Sink, sum(MW) \n",
    "                FROM crr_ownership \n",
    "                WHERE StartDate >= \"%s\" \n",
    "                AND EndDate <= \"%s\" \n",
    "                GROUP BY Source, Sink\"\"\" % (sd,ed))\n",
    "            self.graph_list.append(list(Query_ERCOT_DB.c.fetchall()))\n",
    "        elif option == 'date_range':\n",
    "            Query_ERCOT_DB.c.execute(\"\"\"select Source, Sink, sum(MW) \n",
    "                FROM crr_ownership \n",
    "                WHERE StartDate >= \"%s\" \n",
    "                AND EndDate <= \"%s\" \n",
    "                GROUP BY Source, Sink\"\"\" % (start_date, end_date))\n",
    "            temp = list(Query_ERCOT_DB.c.fetchall())\n",
    "            for source, sink, MW_total in temp:\n",
    "                self.capacity_matrix[qcrr.sources[source], qcrr.sinks[sink]] = MW_total"
   ]
  },
  {
   "cell_type": "code",
   "execution_count": 48,
   "metadata": {
    "collapsed": false
   },
   "outputs": [
    {
     "data": {
      "text/plain": [
       "array([[  0. ,   0. ,   0. , ...,   0. ,   0. ,   0. ],\n",
       "       [  0. ,   0. ,   0. , ...,   0. ,   0. ,   0. ],\n",
       "       [  0. ,   5.2,   0. , ...,   0. ,   0. ,   0. ],\n",
       "       ..., \n",
       "       [  0. ,   0. ,   0. , ...,   0. ,   0. ,   0. ],\n",
       "       [  0. ,   0. ,   0. , ...,   0. ,   0. ,  38.5],\n",
       "       [  0. ,   0. ,   0. , ...,   0. ,  33.5,   0. ]])"
      ]
     },
     "execution_count": 48,
     "metadata": {},
     "output_type": "execute_result"
    }
   ],
   "source": [
    "qcrr = Query_CRR()\n",
    "crr_periods = qcrr.query(option = 'date_range')\n",
    "qcrr.capacity_matrix\n",
    "    "
   ]
  },
  {
   "cell_type": "code",
   "execution_count": 46,
   "metadata": {
    "collapsed": false
   },
   "outputs": [
    {
     "name": "stdout",
     "output_type": "stream",
     "text": [
      "[[  0.    0.    0.  ...,   0.    0.    0. ]\n",
      " [  0.    0.    0.  ...,   0.    0.    0. ]\n",
      " [  0.    5.2   0.  ...,   0.    0.    0. ]\n",
      " ..., \n",
      " [  0.    0.    0.  ...,   0.    0.    0. ]\n",
      " [  0.    0.    0.  ...,   0.    0.   38.5]\n",
      " [  0.    0.    0.  ...,   0.   33.5   0. ]]\n"
     ]
    }
   ],
   "source": [
    "print(capacity_matrix)"
   ]
  },
  {
   "cell_type": "code",
   "execution_count": 49,
   "metadata": {
    "collapsed": true
   },
   "outputs": [],
   "source": [
    "img_plot = plt.imshow(capacity_matrix)\n",
    "plt.show()"
   ]
  },
  {
   "cell_type": "code",
   "execution_count": null,
   "metadata": {
    "collapsed": true
   },
   "outputs": [],
   "source": []
  }
 ],
 "metadata": {
  "kernelspec": {
   "display_name": "Python 2",
   "language": "python",
   "name": "python2"
  },
  "language_info": {
   "codemirror_mode": {
    "name": "ipython",
    "version": 2
   },
   "file_extension": ".py",
   "mimetype": "text/x-python",
   "name": "python",
   "nbconvert_exporter": "python",
   "pygments_lexer": "ipython2",
   "version": "2.7.6"
  }
 },
 "nbformat": 4,
 "nbformat_minor": 0
}
