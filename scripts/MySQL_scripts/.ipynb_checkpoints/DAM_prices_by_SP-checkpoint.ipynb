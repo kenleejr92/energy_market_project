{
 "cells": [
  {
   "cell_type": "code",
   "execution_count": 1,
   "metadata": {
    "collapsed": false
   },
   "outputs": [
    {
     "name": "stderr",
     "output_type": "stream",
     "text": [
      "Using gpu device 0: GeForce GT 550M (CNMeM is disabled, cuDNN not available)\n"
     ]
    }
   ],
   "source": [
    "import sys\n",
    "import numpy as np\n",
    "import matplotlib.pyplot as plt\n",
    "import pandas as pd\n",
    "import MySQLdb\n",
    "from MySQLdb.constants import FIELD_TYPE\n",
    "from datetime import datetime\n",
    "import theano\n"
   ]
  },
  {
   "cell_type": "code",
   "execution_count": 2,
   "metadata": {
    "collapsed": false
   },
   "outputs": [
    {
     "name": "stdout",
     "output_type": "stream",
     "text": [
      "Start Date in form: YYYY-MM-DD2011-01-01\n",
      "End Date in form YYYY-MM-DD2011-12-31\n"
     ]
    }
   ],
   "source": [
    "#Acquire DAM SPP for the different settlementpoints for a specific date range\n",
    "my_conv = { FIELD_TYPE.DECIMAL: float }\n",
    "db=MySQLdb.connect(host=\"localhost\",db=\"ercot_data\",read_default_file=\"/etc/mysql/my.cnf\",conv=my_conv)\n",
    "c=db.cursor()\n",
    "\n",
    "c.execute(\"\"\"SELECT DISTINCT settlement_point FROM DAM_prices_by_SPP\"\"\")\n",
    "r = c.fetchall()\n",
    "r = list(r)\n",
    "settlement_points = []\n",
    "for settlement_point in r:\n",
    "    if settlement_point[0] == \"\\\"Settlement Point\\\"\":\n",
    "        continue\n",
    "    settlement_points.append(settlement_point[0])\n",
    "\n",
    "start_date = raw_input(\"Start Date in form: YYYY-MM-DD\")\n",
    "end_date = raw_input(\"End Date in form YYYY-MM-DD\")\n",
    "\n",
    "\n",
    "result_dict = {}\n",
    "for (idx,val) in enumerate(settlement_points):\n",
    "    c.execute(\"\"\"SELECT delivery_date,hour_ending,spp \n",
    "                FROM DAM_prices_by_SPP \n",
    "                WHERE settlement_point = \"%s\" \n",
    "                AND delivery_date > \"%s\" \n",
    "                AND delivery_date < \"%s\" \n",
    "                ORDER BY delivery_date,hour_ending\"\"\" % (val,start_date,end_date))\n",
    "    result = c.fetchall()\n",
    "    result = list(result)\n",
    "    result_dict[val] = result"
   ]
  },
  {
   "cell_type": "code",
   "execution_count": 3,
   "metadata": {
    "collapsed": false
   },
   "outputs": [],
   "source": [
    "spp_dict = {}\n",
    "dts = []\n",
    "count = 0\n",
    "for bus_name,result in result_dict.iteritems():\n",
    "    spps = []\n",
    "    for (date,time,spp) in result:\n",
    "        time = str(int(time.split(\":\")[0])-1)\n",
    "        dt = datetime.strptime(date + \" \" + time, \"%Y-%m-%d %H\")\n",
    "        spps.append(float(spp))\n",
    "        if count == 0:\n",
    "            dts.append(dt)\n",
    "    count = count + 1\n",
    "    spp_dict[bus_name] = spps\n",
    "    "
   ]
  },
  {
   "cell_type": "code",
   "execution_count": 4,
   "metadata": {
    "collapsed": false,
    "scrolled": true
   },
   "outputs": [],
   "source": [
    "#plot the data for a date range\n",
    "for bus_name,price in spp_dict.iteritems():\n",
    "    plt.plot(dts,price,label=\"%s\" % bus_name)\n",
    "plt.title(\"SPP by LZ and HUB for %s\" % start_date.split(\"-\")[0])\n",
    "plt.xlabel(\"Date-Time\")\n",
    "plt.ylabel(\"SPP\")\n",
    "plt.legend()\n",
    "plt.show()"
   ]
  },
  {
   "cell_type": "code",
   "execution_count": null,
   "metadata": {
    "collapsed": true
   },
   "outputs": [],
   "source": []
  }
 ],
 "metadata": {
  "kernelspec": {
   "display_name": "Python 2",
   "language": "python",
   "name": "python2"
  },
  "language_info": {
   "codemirror_mode": {
    "name": "ipython",
    "version": 2
   },
   "file_extension": ".py",
   "mimetype": "text/x-python",
   "name": "python",
   "nbconvert_exporter": "python",
   "pygments_lexer": "ipython2",
   "version": "2.7.6"
  }
 },
 "nbformat": 4,
 "nbformat_minor": 0
}
