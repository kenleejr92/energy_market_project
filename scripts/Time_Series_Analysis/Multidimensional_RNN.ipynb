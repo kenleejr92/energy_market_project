{
 "cells": [
  {
   "cell_type": "code",
   "execution_count": 30,
   "metadata": {
    "collapsed": false
   },
   "outputs": [],
   "source": [
    "%matplotlib qt\n",
    "import LMP_Query\n",
    "import cPickle as pickle\n",
    "from sklearn import preprocessing\n",
    "import pandas as pd\n",
    "import numpy as np\n",
    "from keras.models import Sequential\n",
    "from keras.layers import Dense, LSTM, SimpleRNN\n",
    "import calendar\n",
    "import holidays\n",
    "import matplotlib.pyplot as plt\n",
    "def work_day_or_holiday(date):\n",
    "    us_holidays = holidays.UnitedStates()\n",
    "    if date in us_holidays or weekday_of_date(date) == \"Sunday\" or weekday_of_date(date) == \"Saturday\":\n",
    "        return int(1)\n",
    "    else: return int(0)\n",
    "    \n",
    "def weekday_of_date(date):\n",
    "    return calendar.day_name[date.weekday()]\n",
    "    \n",
    "def encode_onehot(df, cols):\n",
    "    enc = preprocessing.OneHotEncoder()\n",
    "    index = df[cols].index\n",
    "    data = enc.fit_transform(df[cols].reshape(-1, 1)).toarray()\n",
    "    one_hot_df = pd.DataFrame(data=data, index=index, columns=[cols + '%s' % i for i in range(data.shape[1])])\n",
    "    del df[cols]\n",
    "    return df.join(one_hot_df, how='inner')"
   ]
  },
  {
   "cell_type": "code",
   "execution_count": 2,
   "metadata": {
    "collapsed": false
   },
   "outputs": [],
   "source": [
    "# Retrieve sample data frame created in Spark_Time_series_preprocessing\n",
    "f = open('crr_sample_nodes.pkl', 'r')\n",
    "df = pickle.load(f)\n",
    "f.close()"
   ]
  },
  {
   "cell_type": "code",
   "execution_count": 23,
   "metadata": {
    "collapsed": false
   },
   "outputs": [],
   "source": [
    "# Construct time series features and standardize time series\n",
    "standard_scaler = preprocessing.StandardScaler()\n",
    "scaled_df = pd.DataFrame(standard_scaler.fit_transform(df), index=df.index, columns=df.columns)\n",
    "time_features =[]\n",
    "for dt in scaled_df.index:\n",
    "    time_features.append([work_day_or_holiday(dt), dt.hour, dt.weekday(), dt.month])\n",
    "time_features = pd.DataFrame(time_features, index = df.index, columns=['holiday', 'hour', 'weekday', 'month'])\n",
    "features_df = pd.concat([scaled_df, time_features], axis=1)\n",
    "features_df = encode_onehot(features_df, 'weekday')\n",
    "features_df = encode_onehot(features_df, 'month')\n",
    "features_df = encode_onehot(features_df, 'hour')"
   ]
  },
  {
   "cell_type": "code",
   "execution_count": 24,
   "metadata": {
    "collapsed": false
   },
   "outputs": [
    {
     "data": {
      "text/plain": [
       "array([[ 27.58,   0.  ,  26.2 , ...,   0.  ,  27.83,  27.69],\n",
       "       [ 26.29,   0.  ,  24.82, ...,   0.  ,  26.49,  26.42],\n",
       "       [ 25.97,   0.  ,  24.53, ...,   0.  ,  26.19,  26.16],\n",
       "       ..., \n",
       "       [ 20.7 ,  20.63,  20.63, ...,  20.62,  20.63,  20.63],\n",
       "       [ 19.85,  19.82,  19.83, ...,  19.82,  19.82,  19.82],\n",
       "       [ 18.88,  18.87,  18.88, ...,  18.86,  18.88,  18.87]])"
      ]
     },
     "execution_count": 24,
     "metadata": {},
     "output_type": "execute_result"
    }
   ],
   "source": [
    "re_scaled_df = standard_scaler.inverse_transform(scaled_df)\n",
    "re_scaled_df"
   ]
  },
  {
   "cell_type": "code",
   "execution_count": 64,
   "metadata": {
    "collapsed": false
   },
   "outputs": [],
   "source": [
    "sequences = []\n",
    "targets = []\n",
    "row_count = 0\n",
    "for dt, row in features_df.iterrows():\n",
    "    pred_hour_index = features_df.index.get_loc(dt)\n",
    "    if pred_hour_index - 72 >= 0:\n",
    "        targets.append(features_df.iloc[pred_hour_index][:100])\n",
    "        sequence = []\n",
    "        sequence.append(features_df.iloc[pred_hour_index - 24])\n",
    "        sequence.append(features_df.iloc[pred_hour_index - 48])\n",
    "        sequence.append(features_df.iloc[pred_hour_index - 72])\n",
    "        # sequence = [self.features_df.iloc[pred_hour_index - i] for i in np.arange(24, 72)]\n",
    "        sequences.append(sequence)\n",
    "    row_count += 1\n",
    "    if row_count >= 200:\n",
    "        break\n"
   ]
  },
  {
   "cell_type": "code",
   "execution_count": 65,
   "metadata": {
    "collapsed": false
   },
   "outputs": [],
   "source": [
    "sequences = np.array(sequences)\n",
    "targets = np.array(targets)"
   ]
  },
  {
   "cell_type": "code",
   "execution_count": 78,
   "metadata": {
    "collapsed": false
   },
   "outputs": [
    {
     "data": {
      "text/plain": [
       "100"
      ]
     },
     "execution_count": 78,
     "metadata": {},
     "output_type": "execute_result"
    }
   ],
   "source": [
    "train_size = 0.8\n",
    "val_size = 0.1\n",
    "test_size = 0.1\n",
    "train_features = []\n",
    "train_targets = []\n",
    "test_features = []\n",
    "test_targets =[]\n",
    "val_features=[]\n",
    "val_targets=[]\n",
    "total_num_samples = sequences.shape[0]\n",
    "train_boundary = int(total_num_samples*train_size)\n",
    "val_boundary = int(total_num_samples*(train_size + test_size))\n",
    "train_indices = np.arange(0, train_boundary)\n",
    "val_indices = np.arange(train_boundary, val_boundary)\n",
    "test_indices = np.arange(val_boundary, total_num_samples)\n",
    "for i in train_indices:\n",
    "    train_features.append(sequences[i, :, :])\n",
    "    train_targets.append(targets[i])\n",
    "x_train = np.array(train_features)\n",
    "y_train = np.array(train_targets)\n",
    "for i in test_indices:\n",
    "    test_features.append(sequences[i, :, :])\n",
    "    test_targets.append(targets[i])\n",
    "x_test = np.array(test_features)\n",
    "y_test = np.array(test_targets)\n",
    "for i in val_indices:\n",
    "    val_features.append(sequences[i, :, :])\n",
    "    val_targets.append(targets[i])\n",
    "x_val = np.array(val_features)\n",
    "y_val = np.array(val_targets)\n",
    "y_train.shape[1]"
   ]
  },
  {
   "cell_type": "code",
   "execution_count": 79,
   "metadata": {
    "collapsed": false
   },
   "outputs": [
    {
     "name": "stdout",
     "output_type": "stream",
     "text": [
      "Train on 102 samples, validate on 13 samples\n",
      "Epoch 1/10\n",
      "102/102 [==============================] - 0s - loss: 0.0925 - val_loss: 0.0651\n",
      "Epoch 2/10\n",
      "102/102 [==============================] - 0s - loss: 0.0443 - val_loss: 0.0226\n",
      "Epoch 3/10\n",
      "102/102 [==============================] - 0s - loss: 0.0151 - val_loss: 0.0126\n",
      "Epoch 4/10\n",
      "102/102 [==============================] - 0s - loss: 0.0080 - val_loss: 0.0121\n",
      "Epoch 5/10\n",
      "102/102 [==============================] - 0s - loss: 0.0061 - val_loss: 0.0072\n",
      "Epoch 6/10\n",
      "102/102 [==============================] - 0s - loss: 0.0057 - val_loss: 0.0069\n",
      "Epoch 7/10\n",
      "102/102 [==============================] - 0s - loss: 0.0040 - val_loss: 0.0078\n",
      "Epoch 8/10\n",
      "102/102 [==============================] - 0s - loss: 0.0030 - val_loss: 0.0060\n",
      "Epoch 9/10\n",
      "102/102 [==============================] - 0s - loss: 0.0028 - val_loss: 0.0091\n",
      "Epoch 10/10\n",
      "102/102 [==============================] - 0s - loss: 0.0023 - val_loss: 0.0085\n"
     ]
    },
    {
     "data": {
      "text/plain": [
       "<keras.callbacks.History at 0x13ce9c890>"
      ]
     },
     "execution_count": 79,
     "metadata": {},
     "output_type": "execute_result"
    }
   ],
   "source": [
    "model = Sequential()\n",
    "model.add(LSTM(50, input_dim = x_train.shape[2], input_length = x_train.shape[1]))\n",
    "model.add(Dense(y_train.shape[1], init = 'zero', activation = 'linear'))\n",
    "model.compile(loss='mean_squared_error', optimizer='RMSprop')\n",
    "model.fit(x_train, y_train, validation_data=(x_val, y_val))"
   ]
  },
  {
   "cell_type": "code",
   "execution_count": 80,
   "metadata": {
    "collapsed": false
   },
   "outputs": [],
   "source": [
    "y_pred = model.predict(x_test)\n"
   ]
  },
  {
   "cell_type": "code",
   "execution_count": 81,
   "metadata": {
    "collapsed": false
   },
   "outputs": [],
   "source": [
    "y_pred = standard_scaler.inverse_transform(y_pred)\n",
    "y_test = standard_scaler.inverse_transform(y_test)\n",
    "y_pred_df = pd.DataFrame(y_pred, columns=df.columns)\n",
    "y_test_df = pd.DataFrame(y_test, columns=df.columns)\n",
    "ax = y_pred_df.plot()\n",
    "ax2 = y_test_df.plot()\n",
    "ax.legend_.remove()\n",
    "ax2.legend_.remove()\n",
    "plt.show()"
   ]
  },
  {
   "cell_type": "code",
   "execution_count": 82,
   "metadata": {
    "collapsed": false
   },
   "outputs": [
    {
     "data": {
      "text/plain": [
       "7168.3787415654433"
      ]
     },
     "execution_count": 82,
     "metadata": {},
     "output_type": "execute_result"
    }
   ],
   "source": [
    "np.sum(np.abs(y_pred - y_test))"
   ]
  }
 ],
 "metadata": {
  "anaconda-cloud": {},
  "kernelspec": {
   "display_name": "Python [conda root]",
   "language": "python",
   "name": "conda-root-py"
  },
  "language_info": {
   "codemirror_mode": {
    "name": "ipython",
    "version": 2
   },
   "file_extension": ".py",
   "mimetype": "text/x-python",
   "name": "python",
   "nbconvert_exporter": "python",
   "pygments_lexer": "ipython2",
   "version": "2.7.12"
  }
 },
 "nbformat": 4,
 "nbformat_minor": 1
}
